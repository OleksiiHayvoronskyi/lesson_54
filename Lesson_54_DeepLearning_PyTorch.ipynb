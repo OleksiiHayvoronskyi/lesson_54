{
 "cells": [
  {
   "cell_type": "markdown",
   "source": [
    "**Завдання**\n",
    "### Використовуючи з лекції датасет і код:\n",
    "* створити на основі двошарової нейромережі тришарову;\n",
    "* оцінити її похибку та точність визначення класів.\n",
    "#### Після цього використати для оцінки похибки **Mean Squared Error**, в ролі оптимізатора - **Adam**.\n",
    "* Порівняти, чи змінилась похибка та точність."
   ],
   "metadata": {
    "collapsed": false
   }
  },
  {
   "cell_type": "code",
   "execution_count": 3,
   "outputs": [],
   "source": [
    "%matplotlib inline\n",
    "import torch.nn as nn\n",
    "from tensorflow.keras.datasets import mnist # Біліотека з базою Mnist\n",
    "from tensorflow.keras.models import Sequential # Підключаємо клас моделі Sequential\n",
    "from tensorflow.keras.layers import Dense # Підключаємо клас Dense - повнозв'язний шар\n",
    "from tensorflow.keras.optimizers import Adam # Підключаємо оптимізатор Adam\n"
   ],
   "metadata": {
    "collapsed": false
   }
  },
  {
   "cell_type": "code",
   "execution_count": 1,
   "outputs": [
    {
     "name": "stdout",
     "output_type": "stream",
     "text": [
      "version: 3.10.5 (tags/v3.10.5:f377153, Jun  6 2022, 16:14:13) [MSC v.1929 64 bit (AMD64)]\n"
     ]
    }
   ],
   "source": [
    "import sys\n",
    "print(\"version:\", sys.version)"
   ],
   "metadata": {
    "collapsed": false
   }
  },
  {
   "cell_type": "code",
   "execution_count": null,
   "outputs": [],
   "source": [
    "model = Sequential() # Створюємо модель нейронної мережі\n",
    "model.add(Dense(2, input_dim = 2, use_bias=False)) # Додаємо повнозв'язний шар з 2-ма нейронами (вказуємо, що на вхід приймаємо вектор з двох елементів) і відключаємо використання зміщення нейрона\n",
    "model.add(Dense(1, use_bias=False))"
   ],
   "metadata": {
    "collapsed": false
   }
  },
  {
   "cell_type": "code",
   "execution_count": null,
   "outputs": [],
   "source": [],
   "metadata": {
    "collapsed": false
   }
  },
  {
   "cell_type": "code",
   "execution_count": null,
   "outputs": [],
   "source": [],
   "metadata": {
    "collapsed": false
   }
  }
 ],
 "metadata": {
  "kernelspec": {
   "display_name": "Python 3",
   "language": "python",
   "name": "python3"
  },
  "language_info": {
   "codemirror_mode": {
    "name": "ipython",
    "version": 2
   },
   "file_extension": ".py",
   "mimetype": "text/x-python",
   "name": "python",
   "nbconvert_exporter": "python",
   "pygments_lexer": "ipython2",
   "version": "2.7.6"
  }
 },
 "nbformat": 4,
 "nbformat_minor": 0
}
