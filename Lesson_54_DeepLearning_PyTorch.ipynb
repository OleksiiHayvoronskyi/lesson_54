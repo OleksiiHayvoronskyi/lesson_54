{
 "cells": [
  {
   "cell_type": "markdown",
   "source": [
    "**Завдання**\n",
    "### Використовуючи з лекції датасет і код:\n",
    "* створити на основі двошарової нейромережі тришарову;\n",
    "* оцінити її похибку та точність визначення класів."
   ],
   "metadata": {
    "collapsed": false
   }
  },
  {
   "cell_type": "code",
   "execution_count": 113,
   "outputs": [],
   "source": [
    "# Required libraries.\n",
    "import torch\n",
    "import torch.nn as nn\n",
    "from torch.utils.data import DataLoader\n",
    "import torch.nn.functional as F\n",
    "import torchvision.transforms as transforms\n",
    "from torchvision import datasets\n",
    "import matplotlib.pyplot as plt\n",
    "\n",
    "%matplotlib inline"
   ],
   "metadata": {
    "collapsed": false
   }
  },
  {
   "cell_type": "markdown",
   "source": [
    "### Loading a dataset and splitting it into a train and test data:"
   ],
   "metadata": {
    "collapsed": false
   }
  },
  {
   "cell_type": "code",
   "execution_count": 114,
   "outputs": [
    {
     "data": {
      "text/plain": "Dataset MNIST\n    Number of datapoints: 10000\n    Root location: E:\\Python DEVELOPER\\StartUpAcademy\\projects\\lesson_54\\DATA\n    Split: Test\n    StandardTransform\nTransform: ToTensor()"
     },
     "execution_count": 114,
     "metadata": {},
     "output_type": "execute_result"
    }
   ],
   "source": [
    "# Converts the image into numbers.\n",
    "Transform = transforms.ToTensor()\n",
    "\n",
    "# Downloading dataset and making a train data.\n",
    "train_data = datasets.MNIST(root='E:\\Python DEVELOPER\\StartUpAcademy\\projects\\lesson_54\\DATA',\n",
    "                             train=False, download=False, transform=Transform)\n",
    "\n",
    "train_data"
   ],
   "metadata": {
    "collapsed": false
   }
  },
  {
   "cell_type": "code",
   "execution_count": 115,
   "outputs": [
    {
     "data": {
      "text/plain": "Dataset MNIST\n    Number of datapoints: 10000\n    Root location: E:\\Python DEVELOPER\\StartUpAcademy\\projects\\lesson_54\\DATA\n    Split: Test\n    StandardTransform\nTransform: ToTensor()"
     },
     "execution_count": 115,
     "metadata": {},
     "output_type": "execute_result"
    }
   ],
   "source": [
    "# Making a test data.\n",
    "test_data = datasets.MNIST(root='E:\\Python DEVELOPER\\StartUpAcademy\\projects\\lesson_54\\DATA', train=False, download=False, transform=Transform)\n",
    "\n",
    "test_data"
   ],
   "metadata": {
    "collapsed": false
   }
  },
  {
   "cell_type": "markdown",
   "source": [
    "### Making models of architecture for neural network:"
   ],
   "metadata": {
    "collapsed": false
   }
  },
  {
   "cell_type": "code",
   "execution_count": 116,
   "outputs": [],
   "source": [
    "# Model's parameters.\n",
    "input_layer = 784\n",
    "hidden_layers = [120, 84]\n",
    "output_layer = 10"
   ],
   "metadata": {
    "collapsed": false
   }
  },
  {
   "cell_type": "code",
   "execution_count": 117,
   "outputs": [
    {
     "data": {
      "text/plain": "Classification(\n  (input_layer): Linear(in_features=784, out_features=120, bias=True)\n  (hid_layer1): Linear(in_features=120, out_features=84, bias=True)\n  (hid_layer2): Linear(in_features=84, out_features=84, bias=True)\n  (output_layer): Linear(in_features=84, out_features=10, bias=True)\n)"
     },
     "execution_count": 117,
     "metadata": {},
     "output_type": "execute_result"
    }
   ],
   "source": [
    "# Making a class for neural network.\n",
    "class Classification(nn.Module):\n",
    "    # Layers initialisation.\n",
    "    def __init__(self):\n",
    "        super().__init__() # успадковуємо всі властивості + додаємо своє.\n",
    "        self.input_layer = nn.Linear(input_layer, hidden_layers[0]) # input layer.\n",
    "        self.hid_layer1 = nn.Linear(hidden_layers[0], hidden_layers[1]) # hidden layer 1.\n",
    "        self.hid_layer2 = nn.Linear(hidden_layers[1], hidden_layers[1]) # hidden layer 2\n",
    "        self.output_layer = nn.Linear(hidden_layers[1], output_layer) # output layer.\n",
    "\n",
    "    # Path of moving data through the neural network.\n",
    "    def forward(self, x):\n",
    "        out = F.relu(self.input_layer(x))  # input layer with a relu activation.\n",
    "        out = F.relu(self.hid_layer1(out)) # hidden layer 1 with a relu activation.\n",
    "        out = F.relu(self.hid_layer2(out)) # layer 2 with relu activation.\n",
    "        out = self.output_layer(out) # output layer.\n",
    "        return F.log_softmax(out, dim=1) # activation with softmax.\n",
    "\n",
    "# Making an object for the neural network.\n",
    "model = Classification()\n",
    "model"
   ],
   "metadata": {
    "collapsed": false
   }
  },
  {
   "cell_type": "markdown",
   "source": [
    "### Loading data into batches:"
   ],
   "metadata": {
    "collapsed": false
   }
  },
  {
   "cell_type": "code",
   "execution_count": 118,
   "outputs": [],
   "source": [
    "train_load = DataLoader(train_data, batch_size=100, shuffle=True)\n",
    "test_load = DataLoader(test_data, batch_size=500, shuffle=False)"
   ],
   "metadata": {
    "collapsed": false
   }
  },
  {
   "cell_type": "markdown",
   "source": [
    "### The error function and optimizer:"
   ],
   "metadata": {
    "collapsed": false
   }
  },
  {
   "cell_type": "code",
   "execution_count": 119,
   "outputs": [],
   "source": [
    "# Initialisation the error function.\n",
    "criterion = nn.CrossEntropyLoss()\n",
    "# Initialization the Adam optimizer.\n",
    "optimizer = torch.optim.Adam(model.parameters(), lr=0.001)"
   ],
   "metadata": {
    "collapsed": false
   }
  },
  {
   "cell_type": "markdown",
   "source": [
    "### Train the Neural Network:"
   ],
   "metadata": {
    "collapsed": false
   }
  },
  {
   "cell_type": "code",
   "execution_count": 120,
   "outputs": [
    {
     "name": "stdout",
     "output_type": "stream",
     "text": [
      "BEFORE [Initial data shape]: torch.Size([100, 1, 28, 28])\n",
      "AFTER [Data after reshaping]: torch.Size([100, 784])\n"
     ]
    }
   ],
   "source": [
    "for images, labels in train_load:\n",
    "    print('BEFORE [Initial data shape]:', images.size())\n",
    "    break\n",
    "print('AFTER [Data after reshaping]:', images.view(100, -1).size())"
   ],
   "metadata": {
    "collapsed": false
   }
  },
  {
   "cell_type": "code",
   "execution_count": 121,
   "outputs": [
    {
     "data": {
      "text/plain": "<Figure size 1400x700 with 1 Axes>",
      "image/png": "[encoded data removed]"
     },
     "metadata": {},
     "output_type": "display_data"
    }
   ],
   "source": [
    "# Visualisation a random figure.\n",
    "plt.figure(figsize=(14,7))\n",
    "plt.imshow(images[1, 0], cmap='gray')\n",
    "plt.show()"
   ],
   "metadata": {
    "collapsed": false
   }
  },
  {
   "cell_type": "code",
   "execution_count": 122,
   "outputs": [
    {
     "name": "stdout",
     "output_type": "stream",
     "text": [
      "Epoch: [1/10], Error: 0.3937, Train accuracy: 7230.0000\n",
      "Epoch: [2/10], Error: 0.2965, Train accuracy: 8994.0000\n",
      "Epoch: [3/10], Error: 0.1977, Train accuracy: 9189.0000\n",
      "Epoch: [4/10], Error: 0.1906, Train accuracy: 9349.0000\n",
      "Epoch: [5/10], Error: 0.1160, Train accuracy: 9500.0000\n",
      "Epoch: [6/10], Error: 0.1181, Train accuracy: 9591.0000\n",
      "Epoch: [7/10], Error: 0.1208, Train accuracy: 9680.0000\n",
      "Epoch: [8/10], Error: 0.0869, Train accuracy: 9714.0000\n",
      "Epoch: [9/10], Error: 0.1082, Train accuracy: 9788.0000\n",
      "Epoch: [10/10], Error: 0.0223, Train accuracy: 9795.0000\n"
     ]
    }
   ],
   "source": [
    "epochs = 10\n",
    "train_losses = []\n",
    "test_losses = []\n",
    "train_correct = []\n",
    "test_correct = []\n",
    "\n",
    "for epoch in range(epochs):\n",
    "    train_corr = 0\n",
    "    test_corr = 0\n",
    "\n",
    "    # Run the training batches.\n",
    "    for b, (X_train, y_train) in enumerate(train_load):\n",
    "        b += 1\n",
    "\n",
    "        # Applying the model.\n",
    "        y_pred = model(X_train.view(100, -1)) # Flatten X_train.\n",
    "        loss = criterion(y_pred, y_train)\n",
    "\n",
    "        # Computing the number of correct predictions.\n",
    "        predicted = torch.max(y_pred.data, 1)[1] # the prediction with the maximum probability.\n",
    "        batch_corr = (predicted == y_train).sum()\n",
    "        train_corr += batch_corr\n",
    "\n",
    "        # Update parameters.\n",
    "        optimizer.zero_grad() # reset the gradients after each training step.\n",
    "        loss.backward() # to trigger  backprop.\n",
    "        optimizer.step() # perform parameter update.\n",
    "\n",
    "      # Printing the model error and accuracy.\n",
    "    print('Epoch: [%d/%d], Error: %.4f,' % (epoch+1, epochs, loss), 'Train accuracy: %.4f' % (train_corr.item()))\n",
    "\n",
    "\n",
    "# Updating train loss and accuracy for the epoch.\n",
    "train_losses.append(loss)\n",
    "train_correct.append(train_correct)\n",
    "\n",
    "# Run the testing batches.\n",
    "with torch.no_grad():\n",
    "    for b, (X_test, y_test) in enumerate(test_load):\n",
    "        # Applying the model.\n",
    "        y_val = model(X_test.view(500, -1)) # Flatten X_test.\n",
    "\n",
    "        # Computing the number of correct predictions.\n",
    "        predicted = torch.max(y_val.data, 1)[1]\n",
    "        test_corr += (predicted == y_test).sum()"
   ],
   "metadata": {
    "collapsed": false
   }
  },
  {
   "cell_type": "code",
   "execution_count": 123,
   "outputs": [],
   "source": [
    "# Updating train loss and accuracy for the epoch.\n",
    "loss = criterion(y_val, y_test)\n",
    "test_losses.append(loss)\n",
    "test_correct.append(test_corr)"
   ],
   "metadata": {
    "collapsed": false
   }
  },
  {
   "cell_type": "code",
   "execution_count": 124,
   "outputs": [
    {
     "name": "stdout",
     "output_type": "stream",
     "text": [
      "Test accuracy: 98.380 %\n"
     ]
    }
   ],
   "source": [
    "# Test accuracy for the last epoch.\n",
    "print(f'Test accuracy: {test_correct[-1].item() * 100/10000:.3f} %')"
   ],
   "metadata": {
    "collapsed": false
   }
  },
  {
   "cell_type": "code",
   "execution_count": 125,
   "outputs": [],
   "source": [
    "# Saving and loading all model.\n",
    "torch.save(model, 'model.pkl')\n",
    "model = torch.load('model.pkl')"
   ],
   "metadata": {
    "collapsed": false
   }
  },
  {
   "cell_type": "code",
   "execution_count": 126,
   "outputs": [
    {
     "data": {
      "text/plain": "<All keys matched successfully>"
     },
     "execution_count": 126,
     "metadata": {},
     "output_type": "execute_result"
    }
   ],
   "source": [
    "# Saving only parameters of model.\n",
    "torch.save(model.state_dict(), 'params.pkl')\n",
    "model.load_state_dict(torch.load('params.pkl'))"
   ],
   "metadata": {
    "collapsed": false
   }
  },
  {
   "cell_type": "code",
   "execution_count": null,
   "outputs": [],
   "source": [],
   "metadata": {
    "collapsed": false
   }
  }
 ],
 "metadata": {
  "kernelspec": {
   "display_name": "Python 3",
   "language": "python",
   "name": "python3"
  },
  "language_info": {
   "codemirror_mode": {
    "name": "ipython",
    "version": 2
   },
   "file_extension": ".py",
   "mimetype": "text/x-python",
   "name": "python",
   "nbconvert_exporter": "python",
   "pygments_lexer": "ipython2",
   "version": "2.7.6"
  }
 },
 "nbformat": 4,
 "nbformat_minor": 0
}
